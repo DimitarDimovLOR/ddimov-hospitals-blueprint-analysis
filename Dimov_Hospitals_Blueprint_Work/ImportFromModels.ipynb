{
 "cells": [
  {
   "cell_type": "code",
   "execution_count": 36,
   "metadata": {
    "collapsed": true
   },
   "outputs": [],
   "source": [
    "import ifcopenshell\n",
    "import pandas as pd\n",
    "import ifcopenshell.util\n",
    "import ifcopenshell.util.element"
   ]
  },
  {
   "cell_type": "code",
   "execution_count": 6,
   "outputs": [],
   "source": [
    "ifc_file = ifcopenshell.open('P012X-BDP-20-X-M3-A-Shell_Ver37.ifc')"
   ],
   "metadata": {
    "collapsed": false,
    "pycharm": {
     "name": "#%%\n"
    }
   }
  },
  {
   "cell_type": "code",
   "execution_count": 8,
   "outputs": [],
   "source": [
    "data = []\n",
    "products = ifc_file.by_type('IfcProduct')\n",
    "for product in products:\n",
    "    data.append(product.is_a())\n",
    "\n",
    "df = pd.DataFrame(data)"
   ],
   "metadata": {
    "collapsed": false,
    "pycharm": {
     "name": "#%%\n"
    }
   }
  },
  {
   "cell_type": "code",
   "execution_count": 10,
   "outputs": [
    {
     "name": "stdout",
     "output_type": "stream",
     "text": [
      "<class 'pandas.core.frame.DataFrame'>\n",
      "RangeIndex: 7877 entries, 0 to 7876\n",
      "Data columns (total 1 columns):\n",
      " #   Column  Non-Null Count  Dtype \n",
      "---  ------  --------------  ----- \n",
      " 0   0       7877 non-null   object\n",
      "dtypes: object(1)\n",
      "memory usage: 61.7+ KB\n"
     ]
    }
   ],
   "source": [
    "df.info()"
   ],
   "metadata": {
    "collapsed": false,
    "pycharm": {
     "name": "#%%\n"
    }
   }
  },
  {
   "cell_type": "code",
   "execution_count": 11,
   "outputs": [],
   "source": [
    "df.columns= [\"ifcProduct\"]"
   ],
   "metadata": {
    "collapsed": false,
    "pycharm": {
     "name": "#%%\n"
    }
   }
  },
  {
   "cell_type": "code",
   "execution_count": 12,
   "outputs": [
    {
     "name": "stdout",
     "output_type": "stream",
     "text": [
      "<class 'pandas.core.frame.DataFrame'>\n",
      "RangeIndex: 7877 entries, 0 to 7876\n",
      "Data columns (total 1 columns):\n",
      " #   Column      Non-Null Count  Dtype \n",
      "---  ------      --------------  ----- \n",
      " 0   ifcProduct  7877 non-null   object\n",
      "dtypes: object(1)\n",
      "memory usage: 61.7+ KB\n"
     ]
    }
   ],
   "source": [
    "df.info()"
   ],
   "metadata": {
    "collapsed": false,
    "pycharm": {
     "name": "#%%\n"
    }
   }
  },
  {
   "cell_type": "code",
   "execution_count": 16,
   "outputs": [
    {
     "data": {
      "text/plain": "array(['IfcBuilding', 'IfcBuildingStorey', 'IfcSite', 'IfcSpace',\n       'IfcOpeningElement', 'IfcWall', 'IfcWindow', 'IfcDoor',\n       'IfcCurtainWall', 'IfcPlate', 'IfcMember', 'IfcRoof', 'IfcSlab',\n       'IfcStair', 'IfcStairFlight', 'IfcCovering', 'IfcColumn',\n       'IfcBuildingElementProxy', 'IfcFurniture', 'IfcElementAssembly',\n       'IfcFlowTerminal', 'IfcRailing', 'IfcDistributionPort'],\n      dtype=object)"
     },
     "execution_count": 16,
     "metadata": {},
     "output_type": "execute_result"
    }
   ],
   "source": [
    "df.ifcProduct.unique()"
   ],
   "metadata": {
    "collapsed": false,
    "pycharm": {
     "name": "#%%\n"
    }
   }
  },
  {
   "cell_type": "code",
   "execution_count": 34,
   "outputs": [
    {
     "name": "stdout",
     "output_type": "stream",
     "text": [
      "16\n"
     ]
    }
   ],
   "source": [
    "doors = ifc_file.by_type('IfcDoor')\n",
    "print(len(doors))\n",
    "\n",
    "door2 = ifc_file.by_type('IfcDoor')[2]\n",
    "door_dict2 = door2.get_info()\n",
    "door_dict2.keys()\n",
    "\n",
    "doorsTable = pd.DataFrame(door_dict2, index=[0])\n",
    "\n",
    "for onedoor in doors:\n",
    "    oneDoorInfo = onedoor.get_info()\n",
    "    doorsTable = doorsTable.append(oneDoorInfo, ignore_index=True)\n"
   ],
   "metadata": {
    "collapsed": false,
    "pycharm": {
     "name": "#%%\n"
    }
   }
  },
  {
   "cell_type": "code",
   "execution_count": 93,
   "outputs": [
    {
     "data": {
      "text/plain": "       id     type                GlobalId  \\\n0   74759  IfcDoor  3FGDflPCj8PeYwzjgj9xNJ   \n1   57861  IfcDoor  3N1qoKngjEJ8YyZU9a1dnB   \n2   69848  IfcDoor  3N1qoKngjEJ8YyZU9a1W6A   \n3   74759  IfcDoor  3FGDflPCj8PeYwzjgj9xNJ   \n4  102218  IfcDoor  3N1qoKngjEJ8YyZU9a1Wvo   \n\n                                        OwnerHistory  \\\n0  [[[None, , DDimov, None, None, None, None, Non...   \n1  [[[None, , DDimov, None, None, None, None, Non...   \n2  [[[None, , DDimov, None, None, None, None, Non...   \n3  [[[None, , DDimov, None, None, None, None, Non...   \n4  [[[None, , DDimov, None, None, None, None, Non...   \n\n                                                Name Description  \\\n0  EDT 7a - Single CW Door Hinged Manual:EDT 7a_D...        None   \n1  EDT 2b OP - Double Unequal Door_with over pane...        None   \n2  EDT 3b OP - Equal Double Door_with over panel:...        None   \n3  EDT 7a - Single CW Door Hinged Manual:EDT 7a_D...        None   \n4  EDT 3b OP - Equal Double Door_with over panel:...        None   \n\n                                          ObjectType  \\\n0  EDT 7a - Single CW Door Hinged Manual:EDT 7a_D...   \n1  EDT 2b OP - Double Unequal Door_with over pane...   \n2  EDT 3b OP - Equal Double Door_with over panel:...   \n3  EDT 7a - Single CW Door Hinged Manual:EDT 7a_D...   \n4  EDT 3b OP - Equal Double Door_with over panel:...   \n\n                                     ObjectPlacement  \\\n0  [[[#33=IfcLocalPlacement(#198,#32), #167=IfcAx...   \n1  [[[#156=IfcLocalPlacement(#33,#155), #409144=I...   \n2  [[[#186=IfcLocalPlacement(#33,#185), #55557=If...   \n3  [[[#33=IfcLocalPlacement(#198,#32), #167=IfcAx...   \n4  [[[#186=IfcLocalPlacement(#33,#185), #98684=If...   \n\n                                      Representation       Tag  OverallHeight  \\\n0  [None, None, ([#120=IfcGeometricRepresentation...  24257722         2060.0   \n1  [None, None, ([#120=IfcGeometricRepresentation...  23215318         2535.0   \n2  [None, None, ([#120=IfcGeometricRepresentation...  23216407         2420.0   \n3  [None, None, ([#120=IfcGeometricRepresentation...  24257722         2060.0   \n4  [None, None, ([#120=IfcGeometricRepresentation...  23219951         2420.0   \n\n   OverallWidth PredefinedType             OperationType  \\\n0        1125.0           DOOR                NOTDEFINED   \n1        1710.0           DOOR                NOTDEFINED   \n2        1810.0           DOOR  DOUBLE_DOOR_SINGLE_SWING   \n3        1125.0           DOOR                NOTDEFINED   \n4        1810.0           DOOR  DOUBLE_DOOR_SINGLE_SWING   \n\n  UserDefinedOperationType  \n0                     None  \n1                     None  \n2                     None  \n3                     None  \n4                     None  ",
      "text/html": "<div>\n<style scoped>\n    .dataframe tbody tr th:only-of-type {\n        vertical-align: middle;\n    }\n\n    .dataframe tbody tr th {\n        vertical-align: top;\n    }\n\n    .dataframe thead th {\n        text-align: right;\n    }\n</style>\n<table border=\"1\" class=\"dataframe\">\n  <thead>\n    <tr style=\"text-align: right;\">\n      <th></th>\n      <th>id</th>\n      <th>type</th>\n      <th>GlobalId</th>\n      <th>OwnerHistory</th>\n      <th>Name</th>\n      <th>Description</th>\n      <th>ObjectType</th>\n      <th>ObjectPlacement</th>\n      <th>Representation</th>\n      <th>Tag</th>\n      <th>OverallHeight</th>\n      <th>OverallWidth</th>\n      <th>PredefinedType</th>\n      <th>OperationType</th>\n      <th>UserDefinedOperationType</th>\n    </tr>\n  </thead>\n  <tbody>\n    <tr>\n      <th>0</th>\n      <td>74759</td>\n      <td>IfcDoor</td>\n      <td>3FGDflPCj8PeYwzjgj9xNJ</td>\n      <td>[[[None, , DDimov, None, None, None, None, Non...</td>\n      <td>EDT 7a - Single CW Door Hinged Manual:EDT 7a_D...</td>\n      <td>None</td>\n      <td>EDT 7a - Single CW Door Hinged Manual:EDT 7a_D...</td>\n      <td>[[[#33=IfcLocalPlacement(#198,#32), #167=IfcAx...</td>\n      <td>[None, None, ([#120=IfcGeometricRepresentation...</td>\n      <td>24257722</td>\n      <td>2060.0</td>\n      <td>1125.0</td>\n      <td>DOOR</td>\n      <td>NOTDEFINED</td>\n      <td>None</td>\n    </tr>\n    <tr>\n      <th>1</th>\n      <td>57861</td>\n      <td>IfcDoor</td>\n      <td>3N1qoKngjEJ8YyZU9a1dnB</td>\n      <td>[[[None, , DDimov, None, None, None, None, Non...</td>\n      <td>EDT 2b OP - Double Unequal Door_with over pane...</td>\n      <td>None</td>\n      <td>EDT 2b OP - Double Unequal Door_with over pane...</td>\n      <td>[[[#156=IfcLocalPlacement(#33,#155), #409144=I...</td>\n      <td>[None, None, ([#120=IfcGeometricRepresentation...</td>\n      <td>23215318</td>\n      <td>2535.0</td>\n      <td>1710.0</td>\n      <td>DOOR</td>\n      <td>NOTDEFINED</td>\n      <td>None</td>\n    </tr>\n    <tr>\n      <th>2</th>\n      <td>69848</td>\n      <td>IfcDoor</td>\n      <td>3N1qoKngjEJ8YyZU9a1W6A</td>\n      <td>[[[None, , DDimov, None, None, None, None, Non...</td>\n      <td>EDT 3b OP - Equal Double Door_with over panel:...</td>\n      <td>None</td>\n      <td>EDT 3b OP - Equal Double Door_with over panel:...</td>\n      <td>[[[#186=IfcLocalPlacement(#33,#185), #55557=If...</td>\n      <td>[None, None, ([#120=IfcGeometricRepresentation...</td>\n      <td>23216407</td>\n      <td>2420.0</td>\n      <td>1810.0</td>\n      <td>DOOR</td>\n      <td>DOUBLE_DOOR_SINGLE_SWING</td>\n      <td>None</td>\n    </tr>\n    <tr>\n      <th>3</th>\n      <td>74759</td>\n      <td>IfcDoor</td>\n      <td>3FGDflPCj8PeYwzjgj9xNJ</td>\n      <td>[[[None, , DDimov, None, None, None, None, Non...</td>\n      <td>EDT 7a - Single CW Door Hinged Manual:EDT 7a_D...</td>\n      <td>None</td>\n      <td>EDT 7a - Single CW Door Hinged Manual:EDT 7a_D...</td>\n      <td>[[[#33=IfcLocalPlacement(#198,#32), #167=IfcAx...</td>\n      <td>[None, None, ([#120=IfcGeometricRepresentation...</td>\n      <td>24257722</td>\n      <td>2060.0</td>\n      <td>1125.0</td>\n      <td>DOOR</td>\n      <td>NOTDEFINED</td>\n      <td>None</td>\n    </tr>\n    <tr>\n      <th>4</th>\n      <td>102218</td>\n      <td>IfcDoor</td>\n      <td>3N1qoKngjEJ8YyZU9a1Wvo</td>\n      <td>[[[None, , DDimov, None, None, None, None, Non...</td>\n      <td>EDT 3b OP - Equal Double Door_with over panel:...</td>\n      <td>None</td>\n      <td>EDT 3b OP - Equal Double Door_with over panel:...</td>\n      <td>[[[#186=IfcLocalPlacement(#33,#185), #98684=If...</td>\n      <td>[None, None, ([#120=IfcGeometricRepresentation...</td>\n      <td>23219951</td>\n      <td>2420.0</td>\n      <td>1810.0</td>\n      <td>DOOR</td>\n      <td>DOUBLE_DOOR_SINGLE_SWING</td>\n      <td>None</td>\n    </tr>\n  </tbody>\n</table>\n</div>"
     },
     "execution_count": 93,
     "metadata": {},
     "output_type": "execute_result"
    }
   ],
   "source": [
    "doorsTable.head(5)"
   ],
   "metadata": {
    "collapsed": false,
    "pycharm": {
     "name": "#%%\n"
    }
   }
  },
  {
   "cell_type": "code",
   "execution_count": null,
   "outputs": [],
   "source": [],
   "metadata": {
    "collapsed": false,
    "pycharm": {
     "name": "#%%\n"
    }
   }
  },
  {
   "cell_type": "code",
   "execution_count": 37,
   "outputs": [
    {
     "name": "stdout",
     "output_type": "stream",
     "text": [
      "{'Pset_DoorCommon': {'IsExternal': True, 'Reference': 'EDT 7a_Door Hinged Manual - Single'}, 'Pset_EnvironmentalImpactIndicators': {'Reference': 'EDT 7a_Door Hinged Manual - Single'}, 'Qto_DoorBaseQuantities': {'Height': 2060.0, 'Width': 1124.99999999974, 'Area': 2.31749999999946}}\n"
     ]
    }
   ],
   "source": [
    "print(ifcopenshell.util.element.get_psets(door))"
   ],
   "metadata": {
    "collapsed": false,
    "pycharm": {
     "name": "#%%\n"
    }
   }
  },
  {
   "cell_type": "code",
   "execution_count": 38,
   "outputs": [
    {
     "name": "stdout",
     "output_type": "stream",
     "text": [
      "(#81212=IfcRelDefinesByProperties('0IEU4wXfP0EuG9aMOUkrON',#42,$,$,(#74759),#80936), #81216=IfcRelDefinesByProperties('2VD2n7cH90KetP_wzLy2tw',#42,$,$,(#74759),#80938), #81546=IfcRelDefinesByProperties('0U8rxTHBX0cwuedpzdXcky',#42,$,$,(#74759),#81544))\n"
     ]
    }
   ],
   "source": [
    "print(door.IsDefinedBy)\n"
   ],
   "metadata": {
    "collapsed": false,
    "pycharm": {
     "name": "#%%\n"
    }
   }
  },
  {
   "cell_type": "code",
   "execution_count": 39,
   "outputs": [
    {
     "name": "stdout",
     "output_type": "stream",
     "text": [
      "[#80876=IfcRelAggregates('3N1qoKngjEJ8YyYU9a1WWb',#42,$,$,#74484,(#74574,#74759,#78662,#78758,#78837,#78943,#79050,#79157,#79222,#79322,#79449,#79501,#79555,#79584,#79606,#79628,#79673,#79725,#79777,#79829,#79881,#79933,#79985,#80037,#80066,#80111,#80140,#80185,#80237,#80266,#80311,#80340,#80362,#80384,#80406,#80451,#80480,#80502,#80524,#80546,#80568,#80590,#80635,#80687,#80739,#80791,#80820,#80865)), #81212=IfcRelDefinesByProperties('0IEU4wXfP0EuG9aMOUkrON',#42,$,$,(#74759),#80936), #81216=IfcRelDefinesByProperties('2VD2n7cH90KetP_wzLy2tw',#42,$,$,(#74759),#80938), #81546=IfcRelDefinesByProperties('0U8rxTHBX0cwuedpzdXcky',#42,$,$,(#74759),#81544), #4046043=IfcRelAssociatesMaterial('0Hf3t7MsT9HRSMQ58a6yZv',#42,$,$,(#74759),#74765), #4052073=IfcRelDefinesByType('3VVRu0Rxz0u8xCOabEujiY',#42,$,$,(#74759),#74733)]\n"
     ]
    }
   ],
   "source": [
    "print(ifc_file.get_inverse(door))\n"
   ],
   "metadata": {
    "collapsed": false,
    "pycharm": {
     "name": "#%%\n"
    }
   }
  },
  {
   "cell_type": "code",
   "execution_count": 97,
   "outputs": [
    {
     "name": "stdout",
     "output_type": "stream",
     "text": [
      "[#74759=IfcDoor('3FGDflPCj8PeYwzjgj9xNJ',#42,'EDT 7a - Single CW Door Hinged Manual:EDT 7a_Door Hinged Manual - Single:24257722',$,'EDT 7a - Single CW Door Hinged Manual:EDT 7a_Door Hinged Manual - Single',#74758,#74744,'24257722',2060.,1124.99999999974,.DOOR.,.NOTDEFINED.,$), #42=IfcOwnerHistory(#39,#5,$,.NOCHANGE.,$,$,$,1630500553), #39=IfcPersonAndOrganization(#36,#38,$), #36=IfcPerson($,'','DDimov',$,$,$,$,$), #38=IfcOrganization($,'','',$,$), #5=IfcApplication(#1,'2021','Autodesk Revit 2021 (ENU)','Revit'), #1=IfcOrganization($,'Autodesk Revit 2021 (ENU)',$,$,$), #74758=IfcLocalPlacement(#74483,#74757), #74483=IfcLocalPlacement(#168,#74482), #168=IfcLocalPlacement(#33,#167), #33=IfcLocalPlacement(#198,#32), #198=IfcLocalPlacement($,#197), #197=IfcAxis2Placement3D(#195,#20,#18), #195=IfcCartesianPoint((1169338.85642978,6339914.4007562,0.)), #20=IfcDirection((0.,0.,1.)), #18=IfcDirection((0.,-1.,0.)), #32=IfcAxis2Placement3D(#6,$,$), #6=IfcCartesianPoint((0.,0.,0.)), #167=IfcAxis2Placement3D(#165,$,$), #165=IfcCartesianPoint((0.,0.,8400.)), #74482=IfcAxis2Placement3D(#74480,$,$), #74480=IfcCartesianPoint((0.,0.,-8400.)), #74757=IfcAxis2Placement3D(#74753,#20,#74755), #74753=IfcCartesianPoint((849724.027545436,150575.09100588,9000.)), #74755=IfcDirection((-0.292371704722594,-0.956304755963079,0.)), #74744=IfcProductDefinitionShape($,$,(#74742)), #74742=IfcShapeRepresentation(#120,'Body','MappedRepresentation',(#74740)), #120=IfcGeometricRepresentationSubContext('Body','Model',*,*,*,*,#114,$,.MODEL_VIEW.,$), #114=IfcGeometricRepresentationContext($,'Model',3,0.01,#111,#112), #111=IfcAxis2Placement3D(#6,$,$), #112=IfcDirection((6.12303176911189E-17,1.)), #74740=IfcMappedItem(#74729,#25101), #74729=IfcRepresentationMap(#74728,#74726), #74728=IfcAxis2Placement3D(#6,$,$), #74726=IfcShapeRepresentation(#120,'Body','SweptSolid',(#74626,#74658,#74690,#74712,#74725)), #74626=IfcExtrudedAreaSolid(#74622,#74625,#20,899.999999999999), #74622=IfcArbitraryClosedProfileDef(.AREA.,'EDT 7a_Door Hinged Manual - Single',#74621), #74621=IfcIndexedPolyCurve(#74598,$,.F.), #74598=IfcCartesianPointList2D(((15.,0.),(14.2658477444273,4.63525491562423),(12.1352549156242,8.81677878438709),(8.81677878438712,12.1352549156242),(4.63525491562424,14.2658477444273),(3.38395977905748E-14,15.),(-4.63525491562418,14.2658477444273),(-8.81677878438705,12.1352549156242),(-12.1352549156242,8.81677878438715),(-14.2658477444273,4.63525491562429),(-15.,6.76791955811495E-14),(-14.2658477444273,-4.63525491562416),(-12.1352549156243,-8.81677878438702),(-8.81677878438717,-12.1352549156241),(-4.63525491562431,-14.2658477444272),(-1.01518793371724E-13,-15.),(4.63525491562408,-14.2658477444274),(8.81677878438698,-12.1352549156243),(12.1352549156241,-8.81677878438722),(14.2658477444273,-4.63525491562436),(15.,0.))), #74625=IfcAxis2Placement3D(#74623,#20,#18), #74623=IfcCartesianPoint((-487.499999999866,-116.,650.)), #74658=IfcExtrudedAreaSolid(#74654,#74657,#20,53.), #74654=IfcArbitraryClosedProfileDef(.AREA.,'EDT 7a_Door Hinged Manual - Single',#74653), #74653=IfcIndexedPolyCurve(#74630,$,.F.), #74630=IfcCartesianPointList2D(((8.00000000000001,0.),(7.60845213036121,2.47213595499962),(6.47213595499959,4.70228201833973),(4.70228201833979,6.47213595499953),(2.47213595499956,7.60845213036128),(0.,7.99999999999994),(-2.47213595499956,7.60845213036128),(-4.70228201833979,6.47213595499953),(-6.47213595499959,4.70228201833973),(-7.60845213036121,2.47213595499962),(-8.00000000000001,0.),(-7.60845213036121,-2.47213595499962),(-6.47213595499959,-4.70228201833973),(-4.70228201833979,-6.47213595499953),(-2.47213595499962,-7.60845213036128),(-0.,-7.99999999999994),(2.47213595499956,-7.60845213036128),(4.70228201833973,-6.47213595499966),(6.47213595499953,-4.70228201833986),(7.60845213036121,-2.47213595499962),(8.00000000000001,0.))), #74657=IfcAxis2Placement3D(#74655,#16,#14), #74655=IfcCartesianPoint((-487.499999999868,-116.,750.)), #16=IfcDirection((0.,1.,0.)), #14=IfcDirection((-1.,0.,0.)), #74690=IfcExtrudedAreaSolid(#74686,#74689,#20,53.), #74686=IfcArbitraryClosedProfileDef(.AREA.,'EDT 7a_Door Hinged Manual - Single',#74685), #74685=IfcIndexedPolyCurve(#74662,$,.F.), #74662=IfcCartesianPointList2D(((8.00000000000001,0.),(7.60845213036121,2.47213595499962),(6.47213595499959,4.70228201833973),(4.70228201833979,6.47213595499953),(2.47213595499956,7.60845213036128),(0.,8.00000000000008),(-2.47213595499956,7.60845213036128),(-4.70228201833979,6.47213595499953),(-6.47213595499959,4.70228201833973),(-7.60845213036121,2.47213595499962),(-8.00000000000001,0.),(-7.60845213036121,-2.47213595499962),(-6.47213595499959,-4.70228201833973),(-4.70228201833979,-6.47213595499953),(-2.47213595499962,-7.60845213036128),(-0.,-8.00000000000008),(2.47213595499956,-7.60845213036128),(4.70228201833973,-6.47213595499953),(6.47213595499953,-4.70228201833973),(7.60845213036121,-2.47213595499962),(8.00000000000001,0.))), #74689=IfcAxis2Placement3D(#74687,#16,#14), #74687=IfcCartesianPoint((-487.499999999868,-116.,1450.)), #74712=IfcExtrudedAreaSolid(#74707,#74711,#20,38.0000000000028), #74707=IfcArbitraryProfileDefWithVoids(.AREA.,'EDT 7a_Door Hinged Manual - Single',#74698,(#74706)), #74698=IfcIndexedPolyCurve(#74691,$,.F.), #74691=IfcCartesianPointList2D(((-1030.,-562.499999999868),(1030.,-562.499999999868),(1030.,562.499999999868),(-1030.,562.499999999868),(-1030.,-562.499999999868))), #74706=IfcIndexedPolyCurve(#74699,$,.F.), #74699=IfcCartesianPointList2D(((930.000000000003,462.499999999881),(930.000000000003,-462.499999999873),(-879.999999999999,-462.499999999873),(-879.999999999999,462.499999999881),(930.000000000003,462.499999999881))), #74711=IfcAxis2Placement3D(#74709,#16,#20), #74709=IfcCartesianPoint((0.,-63.,1030.)), #74725=IfcExtrudedAreaSolid(#74721,#74724,#20,1810.), #74721=IfcArbitraryClosedProfileDef(.AREA.,'EDT 7a_Door Hinged Manual - Single',#74720), #74720=IfcIndexedPolyCurve(#74713,$,.F.), #74713=IfcCartesianPointList2D(((-6.,-462.499999999867),(6.,-462.499999999867),(6.,462.499999999867),(-6.,462.499999999867),(-6.,-462.499999999867))), #74724=IfcAxis2Placement3D(#74722,#20,#16), #74722=IfcCartesianPoint((0.,-44.,150.)), #25101=IfcCartesianTransformationOperator3D($,$,#6,1.,$)]\n",
      "#74759=IfcDoor('3FGDflPCj8PeYwzjgj9xNJ',#42,'EDT 7a - Single CW Door Hinged Manual:EDT 7a_Door Hinged Manual - Single:24257722',$,'EDT 7a - Single CW Door Hinged Manual:EDT 7a_Door Hinged Manual - Single',#74758,#74744,'24257722',2060.,1124.99999999974,.DOOR.,.NOTDEFINED.,$)\n",
      "#42=IfcOwnerHistory(#39,#5,$,.NOCHANGE.,$,$,$,1630500553)\n",
      "#39=IfcPersonAndOrganization(#36,#38,$)\n",
      "#36=IfcPerson($,'','DDimov',$,$,$,$,$)\n",
      "#38=IfcOrganization($,'','',$,$)\n",
      "#5=IfcApplication(#1,'2021','Autodesk Revit 2021 (ENU)','Revit')\n",
      "#1=IfcOrganization($,'Autodesk Revit 2021 (ENU)',$,$,$)\n",
      "#74758=IfcLocalPlacement(#74483,#74757)\n",
      "#74483=IfcLocalPlacement(#168,#74482)\n",
      "#168=IfcLocalPlacement(#33,#167)\n",
      "#33=IfcLocalPlacement(#198,#32)\n",
      "#198=IfcLocalPlacement($,#197)\n",
      "#197=IfcAxis2Placement3D(#195,#20,#18)\n",
      "#195=IfcCartesianPoint((1169338.85642978,6339914.4007562,0.))\n",
      "#20=IfcDirection((0.,0.,1.))\n",
      "#18=IfcDirection((0.,-1.,0.))\n",
      "#32=IfcAxis2Placement3D(#6,$,$)\n",
      "#6=IfcCartesianPoint((0.,0.,0.))\n",
      "#167=IfcAxis2Placement3D(#165,$,$)\n",
      "#165=IfcCartesianPoint((0.,0.,8400.))\n",
      "#74482=IfcAxis2Placement3D(#74480,$,$)\n",
      "#74480=IfcCartesianPoint((0.,0.,-8400.))\n",
      "#74757=IfcAxis2Placement3D(#74753,#20,#74755)\n",
      "#74753=IfcCartesianPoint((849724.027545436,150575.09100588,9000.))\n",
      "#74755=IfcDirection((-0.292371704722594,-0.956304755963079,0.))\n",
      "#74744=IfcProductDefinitionShape($,$,(#74742))\n",
      "#74742=IfcShapeRepresentation(#120,'Body','MappedRepresentation',(#74740))\n",
      "#120=IfcGeometricRepresentationSubContext('Body','Model',*,*,*,*,#114,$,.MODEL_VIEW.,$)\n",
      "#114=IfcGeometricRepresentationContext($,'Model',3,0.01,#111,#112)\n",
      "#111=IfcAxis2Placement3D(#6,$,$)\n",
      "#112=IfcDirection((6.12303176911189E-17,1.))\n",
      "#74740=IfcMappedItem(#74729,#25101)\n",
      "#74729=IfcRepresentationMap(#74728,#74726)\n",
      "#74728=IfcAxis2Placement3D(#6,$,$)\n",
      "#74726=IfcShapeRepresentation(#120,'Body','SweptSolid',(#74626,#74658,#74690,#74712,#74725))\n",
      "#74626=IfcExtrudedAreaSolid(#74622,#74625,#20,899.999999999999)\n",
      "#74622=IfcArbitraryClosedProfileDef(.AREA.,'EDT 7a_Door Hinged Manual - Single',#74621)\n",
      "#74621=IfcIndexedPolyCurve(#74598,$,.F.)\n",
      "#74598=IfcCartesianPointList2D(((15.,0.),(14.2658477444273,4.63525491562423),(12.1352549156242,8.81677878438709),(8.81677878438712,12.1352549156242),(4.63525491562424,14.2658477444273),(3.38395977905748E-14,15.),(-4.63525491562418,14.2658477444273),(-8.81677878438705,12.1352549156242),(-12.1352549156242,8.81677878438715),(-14.2658477444273,4.63525491562429),(-15.,6.76791955811495E-14),(-14.2658477444273,-4.63525491562416),(-12.1352549156243,-8.81677878438702),(-8.81677878438717,-12.1352549156241),(-4.63525491562431,-14.2658477444272),(-1.01518793371724E-13,-15.),(4.63525491562408,-14.2658477444274),(8.81677878438698,-12.1352549156243),(12.1352549156241,-8.81677878438722),(14.2658477444273,-4.63525491562436),(15.,0.)))\n",
      "#74625=IfcAxis2Placement3D(#74623,#20,#18)\n",
      "#74623=IfcCartesianPoint((-487.499999999866,-116.,650.))\n",
      "#74658=IfcExtrudedAreaSolid(#74654,#74657,#20,53.)\n",
      "#74654=IfcArbitraryClosedProfileDef(.AREA.,'EDT 7a_Door Hinged Manual - Single',#74653)\n",
      "#74653=IfcIndexedPolyCurve(#74630,$,.F.)\n",
      "#74630=IfcCartesianPointList2D(((8.00000000000001,0.),(7.60845213036121,2.47213595499962),(6.47213595499959,4.70228201833973),(4.70228201833979,6.47213595499953),(2.47213595499956,7.60845213036128),(0.,7.99999999999994),(-2.47213595499956,7.60845213036128),(-4.70228201833979,6.47213595499953),(-6.47213595499959,4.70228201833973),(-7.60845213036121,2.47213595499962),(-8.00000000000001,0.),(-7.60845213036121,-2.47213595499962),(-6.47213595499959,-4.70228201833973),(-4.70228201833979,-6.47213595499953),(-2.47213595499962,-7.60845213036128),(-0.,-7.99999999999994),(2.47213595499956,-7.60845213036128),(4.70228201833973,-6.47213595499966),(6.47213595499953,-4.70228201833986),(7.60845213036121,-2.47213595499962),(8.00000000000001,0.)))\n",
      "#74657=IfcAxis2Placement3D(#74655,#16,#14)\n",
      "#74655=IfcCartesianPoint((-487.499999999868,-116.,750.))\n",
      "#16=IfcDirection((0.,1.,0.))\n",
      "#14=IfcDirection((-1.,0.,0.))\n",
      "#74690=IfcExtrudedAreaSolid(#74686,#74689,#20,53.)\n",
      "#74686=IfcArbitraryClosedProfileDef(.AREA.,'EDT 7a_Door Hinged Manual - Single',#74685)\n",
      "#74685=IfcIndexedPolyCurve(#74662,$,.F.)\n",
      "#74662=IfcCartesianPointList2D(((8.00000000000001,0.),(7.60845213036121,2.47213595499962),(6.47213595499959,4.70228201833973),(4.70228201833979,6.47213595499953),(2.47213595499956,7.60845213036128),(0.,8.00000000000008),(-2.47213595499956,7.60845213036128),(-4.70228201833979,6.47213595499953),(-6.47213595499959,4.70228201833973),(-7.60845213036121,2.47213595499962),(-8.00000000000001,0.),(-7.60845213036121,-2.47213595499962),(-6.47213595499959,-4.70228201833973),(-4.70228201833979,-6.47213595499953),(-2.47213595499962,-7.60845213036128),(-0.,-8.00000000000008),(2.47213595499956,-7.60845213036128),(4.70228201833973,-6.47213595499953),(6.47213595499953,-4.70228201833973),(7.60845213036121,-2.47213595499962),(8.00000000000001,0.)))\n",
      "#74689=IfcAxis2Placement3D(#74687,#16,#14)\n",
      "#74687=IfcCartesianPoint((-487.499999999868,-116.,1450.))\n",
      "#74712=IfcExtrudedAreaSolid(#74707,#74711,#20,38.0000000000028)\n",
      "#74707=IfcArbitraryProfileDefWithVoids(.AREA.,'EDT 7a_Door Hinged Manual - Single',#74698,(#74706))\n",
      "#74698=IfcIndexedPolyCurve(#74691,$,.F.)\n",
      "#74691=IfcCartesianPointList2D(((-1030.,-562.499999999868),(1030.,-562.499999999868),(1030.,562.499999999868),(-1030.,562.499999999868),(-1030.,-562.499999999868)))\n",
      "#74706=IfcIndexedPolyCurve(#74699,$,.F.)\n",
      "#74699=IfcCartesianPointList2D(((930.000000000003,462.499999999881),(930.000000000003,-462.499999999873),(-879.999999999999,-462.499999999873),(-879.999999999999,462.499999999881),(930.000000000003,462.499999999881)))\n",
      "#74711=IfcAxis2Placement3D(#74709,#16,#20)\n",
      "#74709=IfcCartesianPoint((0.,-63.,1030.))\n",
      "#74725=IfcExtrudedAreaSolid(#74721,#74724,#20,1810.)\n",
      "#74721=IfcArbitraryClosedProfileDef(.AREA.,'EDT 7a_Door Hinged Manual - Single',#74720)\n",
      "#74720=IfcIndexedPolyCurve(#74713,$,.F.)\n",
      "#74713=IfcCartesianPointList2D(((-6.,-462.499999999867),(6.,-462.499999999867),(6.,462.499999999867),(-6.,462.499999999867),(-6.,-462.499999999867)))\n",
      "#74724=IfcAxis2Placement3D(#74722,#20,#16)\n",
      "#74722=IfcCartesianPoint((0.,-44.,150.))\n",
      "#25101=IfcCartesianTransformationOperator3D($,$,#6,1.,$)\n"
     ]
    }
   ],
   "source": [
    "print(list(ifc_file.traverse(door2)))\n",
    "\n",
    "for i in list(ifc_file.traverse(door2)):\n",
    "    print(i)"
   ],
   "metadata": {
    "collapsed": false,
    "pycharm": {
     "name": "#%%\n"
    }
   }
  },
  {
   "cell_type": "code",
   "execution_count": 43,
   "outputs": [],
   "source": [
    "import ifcopenshell.util\n",
    "from ifcopenshell.util.selector import Selector\n"
   ],
   "metadata": {
    "collapsed": false,
    "pycharm": {
     "name": "#%%\n"
    }
   }
  },
  {
   "cell_type": "code",
   "execution_count": 44,
   "outputs": [],
   "source": [
    "selector = Selector()"
   ],
   "metadata": {
    "collapsed": false,
    "pycharm": {
     "name": "#%%\n"
    }
   }
  },
  {
   "cell_type": "code",
   "execution_count": 45,
   "outputs": [],
   "source": [
    "door_elements = selector.parse(ifc_file, '.IfcDoor')"
   ],
   "metadata": {
    "collapsed": false,
    "pycharm": {
     "name": "#%%\n"
    }
   }
  },
  {
   "cell_type": "code",
   "execution_count": 46,
   "outputs": [
    {
     "data": {
      "text/plain": "[#230990=IfcDoor('2m38ALggD7eOp215tvXM4O',#42,'EDT 1b OP - External Single Door_with over panel:EDT 1b OP_1060w x 2590h:26377641',$,'EDT 1b OP - External Single Door_with over panel:EDT 1b OP_1060w x 2590h',#4088806,#230983,'26377641',2590.,1060.,.DOOR.,.NOTDEFINED.,$),\n #57861=IfcDoor('3N1qoKngjEJ8YyZU9a1dnB',#42,'EDT 2b OP - Double Unequal Door_with over panel:EDT 2b OP_1710w x 2535h:23215318',$,'EDT 2b OP - Double Unequal Door_with over panel:EDT 2b OP_1710w x 2535h',#4066090,#57854,'23215318',2535.,1709.99999999999,.DOOR.,.NOTDEFINED.,$),\n #69848=IfcDoor('3N1qoKngjEJ8YyZU9a1W6A',#42,'EDT 3b OP - Equal Double Door_with over panel:EDT 3b OP_1810w x 2420h:23216407',$,'EDT 3b OP - Equal Double Door_with over panel:EDT 3b OP_1810w x 2420h',#4066047,#69841,'23216407',2420.,1810.00000000004,.DOOR.,.DOUBLE_DOOR_SINGLE_SWING.,$),\n #219636=IfcDoor('0A82LRXIjCje3a_puN0zVv',#42,'EDT 3b OP - Equal Double Door_with over panel:EDT 3b OP_1810w x 2420h:25715563',$,'EDT 3b OP - Equal Double Door_with over panel:EDT 3b OP_1810w x 2420h',#4088632,#219629,'25715563',2420.,1810.00000000004,.DOOR.,.DOUBLE_DOOR_SINGLE_SWING.,$),\n #229135=IfcDoor('2m38ALggD7eOp215tvXM6F',#42,'EDT 1b OP - External Single Door_with over panel:EDT 1b OP_1060w x 2420h:26377534',$,'EDT 1b OP - External Single Door_with over panel:EDT 1b OP_1060w x 2420h',#4088722,#229128,'26377534',2420.,1060.00000000011,.DOOR.,.NOTDEFINED.,$),\n #616825=IfcDoor('1e1NXpMEzE3RkXS$CYkuGq',#42,'EDT 17b - Equal Double Door:EDT 17b_3310w x 3135h:29527980',$,'EDT 17b - Equal Double Door:EDT 17b_3310w x 3135h',#4095927,#616818,'29527980',3135.,3310.00000000004,.DOOR.,.DOUBLE_DOOR_SINGLE_SWING.,$),\n #229076=IfcDoor('2m38ALggD7eOp215tvXMT6',#42,'EDT 1b OP - External Single Door_with over panel:EDT 1b OP_1060w x 2420h:26377207',$,'EDT 1b OP - External Single Door_with over panel:EDT 1b OP_1060w x 2420h',#4088677,#229069,'26377207',2420.,1060.00000000011,.DOOR.,.NOTDEFINED.,$),\n #611011=IfcDoor('3orELyfNn47Q5m2iG1o_Fg',#42,'EDT 4a - Bi-Folding Door Automatic:EDT 4a_2450w x 2535h:29505707',$,'EDT 4a - Bi-Folding Door Automatic:EDT 4a_2450w x 2535h',#611010,#611002,'29505707',2535.0000000001,2450.00000000001,.DOOR.,.NOTDEFINED.,$),\n #124730=IfcDoor('3N1qoKngjEJ8YyZU9a1Xgc',#42,'EDT 8a - Equal Double CW Door Hinged Manual:EDT 8a_Door Hinged Manual - Double:23222843',$,'EDT 8a - Equal Double CW Door Hinged Manual:EDT 8a_Door Hinged Manual - Double',#124729,#124719,'23222843',2061.85530434782,1900.00000000006,.DOOR.,.NOTDEFINED.,$),\n #229180=IfcDoor('2m38ALggD7eOp215tvXM7M',#42,'EDT 1b OP - External Single Door_with over panel:EDT 1b OP_1060w x 2420h:26377575',$,'EDT 1b OP - External Single Door_with over panel:EDT 1b OP_1060w x 2420h',#4088763,#229173,'26377575',2420.,1060.00000000011,.DOOR.,.NOTDEFINED.,$),\n #74759=IfcDoor('3FGDflPCj8PeYwzjgj9xNJ',#42,'EDT 7a - Single CW Door Hinged Manual:EDT 7a_Door Hinged Manual - Single:24257722',$,'EDT 7a - Single CW Door Hinged Manual:EDT 7a_Door Hinged Manual - Single',#74758,#74744,'24257722',2060.,1124.99999999974,.DOOR.,.NOTDEFINED.,$),\n #234957=IfcDoor('2Cz$DKbwnDjfIZqNxmcnbI',#42,'EDT 4a - Bi-Folding Door Automatic:EDT 4a_2450w x 2535h:26600437',$,'EDT 4a - Bi-Folding Door Automatic:EDT 4a_2450w x 2535h',#234956,#234948,'26600437',2535.0000000001,2450.00000000001,.DOOR.,.NOTDEFINED.,$),\n #402045=IfcDoor('1NqP$ZodTFWx1koIj$UVHk',#42,'BDP_Door_CurtainWall:External_Double_Louvred:29264263',$,'BDP_Door_CurtainWall:External_Double_Louvred',#402043,#402029,'29264263',2556.,2509.99999999997,.DOOR.,.NOTDEFINED.,$),\n #625992=IfcDoor('0hINKLdE97nuYISY27ggqp',#42,'EDT 3b OP - Equal Double Door_with over panel:EDT 3b OP_1900w x 2535h:29708999',$,'EDT 3b OP - Equal Double Door_with over panel:EDT 3b OP_1900w x 2535h',#4095970,#625983,'29708999',2535.,1899.99999999999,.DOOR.,.DOUBLE_DOOR_SINGLE_SWING.,$),\n #215347=IfcDoor('1KIseVtKH5u8A7j3NMtgkG',#42,'EDT 1c TP - External Single Door (Louvred Top Panel):EDT 1c_1210w x 2110h:25695185',$,'EDT 1c TP - External Single Door (Louvred Top Panel):EDT 1c_1210w x 2110h',#4088587,#215340,'25695185',2109.99999999998,1210.,.DOOR.,.NOTDEFINED.,$),\n #102218=IfcDoor('3N1qoKngjEJ8YyZU9a1Wvo',#42,'EDT 3b OP - Equal Double Door_with over panel:EDT 3b OP_1810w x 2420h:23219951',$,'EDT 3b OP - Equal Double Door_with over panel:EDT 3b OP_1810w x 2420h',#4070498,#102211,'23219951',2420.,1810.00000000004,.DOOR.,.DOUBLE_DOOR_SINGLE_SWING.,$)]"
     },
     "execution_count": 46,
     "metadata": {},
     "output_type": "execute_result"
    }
   ],
   "source": [
    "door_elements"
   ],
   "metadata": {
    "collapsed": false,
    "pycharm": {
     "name": "#%%\n"
    }
   }
  },
  {
   "cell_type": "code",
   "execution_count": 20,
   "outputs": [
    {
     "name": "stdout",
     "output_type": "stream",
     "text": [
      "EDT 7a - Single CW Door Hinged Manual:EDT 7a_Door Hinged Manual - Single:24257722\n"
     ]
    }
   ],
   "source": [
    "door = ifc_file.by_type('IfcDoor')[2]\n",
    "#print(door.GlobalId)\n",
    "print(door.Name)\n",
    "#print(door.id)"
   ],
   "metadata": {
    "collapsed": false,
    "pycharm": {
     "name": "#%%\n"
    }
   }
  },
  {
   "cell_type": "code",
   "execution_count": 21,
   "outputs": [
    {
     "name": "stdout",
     "output_type": "stream",
     "text": [
      "()\n",
      "Basic Wall:SCCC_EWT-C1b (378mm o/a)_FibCem_LS_Lt:23214317\n"
     ]
    }
   ],
   "source": [
    "wall = ifc_file.by_type('IfcWall')[0]\n",
    "print(wall.ConnectedTo)\n",
    "print(wall.Name)"
   ],
   "metadata": {
    "collapsed": false,
    "pycharm": {
     "name": "#%%\n"
    }
   }
  },
  {
   "cell_type": "code",
   "execution_count": 33,
   "outputs": [
    {
     "name": "stdout",
     "output_type": "stream",
     "text": [
      "Pset_DoorCommon\n",
      "Pset_EnvironmentalImpactIndicators\n",
      "Qto_DoorBaseQuantities\n"
     ]
    },
    {
     "ename": "AttributeError",
     "evalue": "entity instance of type 'IfcElementQuantity' has no attribute 'HasProperties'",
     "output_type": "error",
     "traceback": [
      "\u001B[1;31m---------------------------------------------------------------------------\u001B[0m",
      "\u001B[1;31mAttributeError\u001B[0m                            Traceback (most recent call last)",
      "\u001B[1;32m<ipython-input-33-a9680f5766c7>\u001B[0m in \u001B[0;36m<module>\u001B[1;34m\u001B[0m\n\u001B[0;32m      7\u001B[0m         \u001B[1;31m# Might return Pset_WallCommon\u001B[0m\u001B[1;33m\u001B[0m\u001B[1;33m\u001B[0m\u001B[1;33m\u001B[0m\u001B[0m\n\u001B[0;32m      8\u001B[0m \u001B[1;33m\u001B[0m\u001B[0m\n\u001B[1;32m----> 9\u001B[1;33m \u001B[1;32mfor\u001B[0m \u001B[0mproperty\u001B[0m \u001B[1;32min\u001B[0m \u001B[0mproperty_set\u001B[0m\u001B[1;33m.\u001B[0m\u001B[0mHasProperties\u001B[0m\u001B[1;33m:\u001B[0m\u001B[1;33m\u001B[0m\u001B[1;33m\u001B[0m\u001B[0m\n\u001B[0m\u001B[0;32m     10\u001B[0m \u001B[1;33m\u001B[0m\u001B[0m\n\u001B[0;32m     11\u001B[0m     \u001B[1;32mif\u001B[0m \u001B[0mproperty\u001B[0m\u001B[1;33m.\u001B[0m\u001B[0mis_a\u001B[0m\u001B[1;33m(\u001B[0m\u001B[1;34m'IfcPropertySet'\u001B[0m\u001B[1;33m)\u001B[0m\u001B[1;33m:\u001B[0m\u001B[1;33m\u001B[0m\u001B[1;33m\u001B[0m\u001B[0m\n",
      "\u001B[1;32mC:\\ProgramData\\Anaconda3\\envs\\hospitals-blueprint\\lib\\site-packages\\ifcopenshell\\entity_instance.py\u001B[0m in \u001B[0;36m__getattr__\u001B[1;34m(self, name)\u001B[0m\n\u001B[0;32m     62\u001B[0m             \u001B[1;32mreturn\u001B[0m \u001B[0mentity_instance\u001B[0m\u001B[1;33m.\u001B[0m\u001B[0mwrap_value\u001B[0m\u001B[1;33m(\u001B[0m\u001B[0mself\u001B[0m\u001B[1;33m.\u001B[0m\u001B[0mwrapped_data\u001B[0m\u001B[1;33m.\u001B[0m\u001B[0mget_inverse\u001B[0m\u001B[1;33m(\u001B[0m\u001B[0mname\u001B[0m\u001B[1;33m)\u001B[0m\u001B[1;33m)\u001B[0m\u001B[1;33m\u001B[0m\u001B[1;33m\u001B[0m\u001B[0m\n\u001B[0;32m     63\u001B[0m         \u001B[1;32melse\u001B[0m\u001B[1;33m:\u001B[0m\u001B[1;33m\u001B[0m\u001B[1;33m\u001B[0m\u001B[0m\n\u001B[1;32m---> 64\u001B[1;33m             raise AttributeError(\n\u001B[0m\u001B[0;32m     65\u001B[0m                 \"entity instance of type '%s' has no attribute '%s'\" % (self.wrapped_data.is_a(), name))\n\u001B[0;32m     66\u001B[0m \u001B[1;33m\u001B[0m\u001B[0m\n",
      "\u001B[1;31mAttributeError\u001B[0m: entity instance of type 'IfcElementQuantity' has no attribute 'HasProperties'"
     ]
    }
   ],
   "source": [
    "#wall = ifc_file.by_type('IfcWall')[0]\n",
    "\n",
    "for definition in door.IsDefinedBy:\n",
    "    if definition.is_a('IfcRelDefinesByProperties'):\n",
    "        property_set = definition.RelatingPropertyDefinition\n",
    "        print(property_set.Name)\n",
    "        # Might return Pset_WallCommon\n",
    "\n",
    "for property in property_set.HasProperties:\n",
    "\n",
    "    if property.is_a('IfcPropertySet'):\n",
    "        print(property.Name)\n",
    "        print(property.NominalValue)\n",
    "\n",
    "\n"
   ],
   "metadata": {
    "collapsed": false,
    "pycharm": {
     "name": "#%%\n"
    }
   }
  },
  {
   "cell_type": "code",
   "execution_count": 27,
   "outputs": [
    {
     "name": "stdout",
     "output_type": "stream",
     "text": [
      "Height\n"
     ]
    },
    {
     "ename": "AttributeError",
     "evalue": "entity instance of type 'IfcQuantityLength' has no attribute 'lengthValue'",
     "output_type": "error",
     "traceback": [
      "\u001B[1;31m---------------------------------------------------------------------------\u001B[0m",
      "\u001B[1;31mAttributeError\u001B[0m                            Traceback (most recent call last)",
      "\u001B[1;32m<ipython-input-27-7a865eca3bb5>\u001B[0m in \u001B[0;36m<module>\u001B[1;34m\u001B[0m\n\u001B[0;32m     11\u001B[0m         \u001B[1;32mpass\u001B[0m\u001B[1;33m\u001B[0m\u001B[1;33m\u001B[0m\u001B[0m\n\u001B[0;32m     12\u001B[0m     \u001B[1;32melif\u001B[0m \u001B[0mrelated_data\u001B[0m\u001B[1;33m.\u001B[0m\u001B[0mis_a\u001B[0m\u001B[1;33m(\u001B[0m\u001B[1;34m'IfcElementQuantity'\u001B[0m\u001B[1;33m)\u001B[0m\u001B[1;33m:\u001B[0m\u001B[1;33m\u001B[0m\u001B[1;33m\u001B[0m\u001B[0m\n\u001B[1;32m---> 13\u001B[1;33m         \u001B[0mprint_element_quantities\u001B[0m\u001B[1;33m(\u001B[0m\u001B[0mrelated_data\u001B[0m\u001B[1;33m)\u001B[0m\u001B[1;33m\u001B[0m\u001B[1;33m\u001B[0m\u001B[0m\n\u001B[0m\u001B[0;32m     14\u001B[0m \u001B[1;33m\u001B[0m\u001B[0m\n",
      "\u001B[1;32m<ipython-input-27-7a865eca3bb5>\u001B[0m in \u001B[0;36mprint_element_quantities\u001B[1;34m(element_quantity)\u001B[0m\n\u001B[0;32m      3\u001B[0m         \u001B[0mprint\u001B[0m\u001B[1;33m(\u001B[0m\u001B[0mquantity\u001B[0m\u001B[1;33m.\u001B[0m\u001B[0mName\u001B[0m\u001B[1;33m)\u001B[0m\u001B[1;33m\u001B[0m\u001B[1;33m\u001B[0m\u001B[0m\n\u001B[0;32m      4\u001B[0m         \u001B[1;32mif\u001B[0m \u001B[0mquantity\u001B[0m\u001B[1;33m.\u001B[0m\u001B[0mis_a\u001B[0m\u001B[1;33m(\u001B[0m\u001B[1;34m'IfcQuantityLength'\u001B[0m\u001B[1;33m)\u001B[0m\u001B[1;33m:\u001B[0m\u001B[1;33m\u001B[0m\u001B[1;33m\u001B[0m\u001B[0m\n\u001B[1;32m----> 5\u001B[1;33m             \u001B[0mprint\u001B[0m\u001B[1;33m(\u001B[0m\u001B[0mquantity\u001B[0m\u001B[1;33m.\u001B[0m\u001B[0mlengthValue\u001B[0m\u001B[1;33m)\u001B[0m\u001B[1;33m\u001B[0m\u001B[1;33m\u001B[0m\u001B[0m\n\u001B[0m\u001B[0;32m      6\u001B[0m \u001B[1;33m\u001B[0m\u001B[0m\n\u001B[0;32m      7\u001B[0m \u001B[0mwall\u001B[0m \u001B[1;33m=\u001B[0m \u001B[0mifc_file\u001B[0m\u001B[1;33m.\u001B[0m\u001B[0mby_type\u001B[0m\u001B[1;33m(\u001B[0m\u001B[1;34m'IfcWall'\u001B[0m\u001B[1;33m)\u001B[0m\u001B[1;33m[\u001B[0m\u001B[1;36m0\u001B[0m\u001B[1;33m]\u001B[0m\u001B[1;33m\u001B[0m\u001B[1;33m\u001B[0m\u001B[0m\n",
      "\u001B[1;32mC:\\ProgramData\\Anaconda3\\envs\\hospitals-blueprint\\lib\\site-packages\\ifcopenshell\\entity_instance.py\u001B[0m in \u001B[0;36m__getattr__\u001B[1;34m(self, name)\u001B[0m\n\u001B[0;32m     62\u001B[0m             \u001B[1;32mreturn\u001B[0m \u001B[0mentity_instance\u001B[0m\u001B[1;33m.\u001B[0m\u001B[0mwrap_value\u001B[0m\u001B[1;33m(\u001B[0m\u001B[0mself\u001B[0m\u001B[1;33m.\u001B[0m\u001B[0mwrapped_data\u001B[0m\u001B[1;33m.\u001B[0m\u001B[0mget_inverse\u001B[0m\u001B[1;33m(\u001B[0m\u001B[0mname\u001B[0m\u001B[1;33m)\u001B[0m\u001B[1;33m)\u001B[0m\u001B[1;33m\u001B[0m\u001B[1;33m\u001B[0m\u001B[0m\n\u001B[0;32m     63\u001B[0m         \u001B[1;32melse\u001B[0m\u001B[1;33m:\u001B[0m\u001B[1;33m\u001B[0m\u001B[1;33m\u001B[0m\u001B[0m\n\u001B[1;32m---> 64\u001B[1;33m             raise AttributeError(\n\u001B[0m\u001B[0;32m     65\u001B[0m                 \"entity instance of type '%s' has no attribute '%s'\" % (self.wrapped_data.is_a(), name))\n\u001B[0;32m     66\u001B[0m \u001B[1;33m\u001B[0m\u001B[0m\n",
      "\u001B[1;31mAttributeError\u001B[0m: entity instance of type 'IfcQuantityLength' has no attribute 'lengthValue'"
     ]
    }
   ],
   "source": [
    "def print_element_quantities(element_quantity):\n",
    "    for quantity in element_quantity.Quantities:\n",
    "        print(quantity.Name)\n",
    "        if quantity.is_a('IfcQuantityLength'):\n",
    "            print(quantity.lengthValue)\n",
    "\n",
    "wall = ifc_file.by_type('IfcWall')[0]\n",
    "for definition in door.IsDefinedBy:\n",
    "    related_data = definition.RelatingPropertyDefinition\n",
    "    if related_data.is_a('IfcPropertySet'):\n",
    "        pass\n",
    "    elif related_data.is_a('IfcElementQuantity'):\n",
    "        print_element_quantities(related_data)"
   ],
   "metadata": {
    "collapsed": false,
    "pycharm": {
     "name": "#%%\n"
    }
   }
  },
  {
   "cell_type": "code",
   "execution_count": 12,
   "outputs": [],
   "source": [
    "if wall.ObjectPlacement.PlacementRelTo:\n",
    "    # Inherit the coordinates of its parents\n",
    "    pass\n",
    "local_coordinates = wall.ObjectPlacement.RelativePlacement.Location[0]"
   ],
   "metadata": {
    "collapsed": false,
    "pycharm": {
     "name": "#%%\n"
    }
   }
  },
  {
   "cell_type": "code",
   "execution_count": null,
   "outputs": [],
   "source": [],
   "metadata": {
    "collapsed": false,
    "pycharm": {
     "name": "#%%\n"
    }
   }
  }
 ],
 "metadata": {
  "kernelspec": {
   "name": "pycharm-edd57fe0",
   "language": "python",
   "display_name": "PyCharm (ddimov-hospitals-blueprint-analysis)"
  },
  "language_info": {
   "codemirror_mode": {
    "name": "ipython",
    "version": 2
   },
   "file_extension": ".py",
   "mimetype": "text/x-python",
   "name": "python",
   "nbconvert_exporter": "python",
   "pygments_lexer": "ipython2",
   "version": "2.7.6"
  }
 },
 "nbformat": 4,
 "nbformat_minor": 0
}